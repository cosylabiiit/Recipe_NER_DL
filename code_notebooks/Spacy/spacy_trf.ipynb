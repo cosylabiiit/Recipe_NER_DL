{
 "cells": [
  {
   "cell_type": "code",
   "execution_count": 2,
   "metadata": {
    "id": "sxPx7iHKaee0"
   },
   "outputs": [],
   "source": [
    "import pandas as pd\n",
    "import numpy as np\n",
    "import matplotlib.pyplot as plt\n",
    "import spacy\n",
    "import warnings\n",
    "warnings.filterwarnings(\"ignore\")\n",
    "from spacy.tokens import DocBin\n",
    "import spacy\n",
    "from tqdm import tqdm"
   ]
  },
  {
   "cell_type": "code",
   "execution_count": 5,
   "metadata": {
    "id": "COWCxM_T84JK"
   },
   "outputs": [],
   "source": [
    "df_train=pd.read_csv('final_train.csv', encoding='utf-8', encoding_errors='ignore')\n",
    "df_train.columns=['sentence','tags']\n",
    "\n",
    "df_test=pd.read_csv('final_test.csv', encoding='utf-8', encoding_errors='ignore')\n",
    "df_test.columns=['sentence','tags']"
   ]
  },
  {
   "cell_type": "code",
   "execution_count": 7,
   "metadata": {
    "id": "agjTqbIsVc-i"
   },
   "outputs": [],
   "source": [
    "# function to obtain entity format according to Spacy\n",
    "def get_entity_tuple(df):\n",
    "  list_of_entities = []\n",
    "  for x in range(len(df)):\n",
    "    d = {\"entities\": []}\n",
    "    i, j = 0, 0\n",
    "    idx = -1\n",
    "    \n",
    "    tokens = df[\"tags\"][x].split()\n",
    "    words = df['sentence'][x].split()\n",
    "    if len(words) != len(tokens):\n",
    "      continue\n",
    "\n",
    "    temp = df[\"sentence\"][x] + \" \"\n",
    "    for char in temp:\n",
    "      if char == \" \":\n",
    "        d[\"entities\"].append((i, j, tokens[idx]))\n",
    "        j += 1\n",
    "        i = j\n",
    "        idx += 1\n",
    "      else:\n",
    "        j += 1\n",
    "    list_of_entities.append((df[\"sentence\"][x], d))\n",
    "  \n",
    "  return list_of_entities"
   ]
  },
  {
   "cell_type": "code",
   "execution_count": 8,
   "metadata": {
    "colab": {
     "base_uri": "https://localhost:8080/"
    },
    "id": "murGRp3NIK5S",
    "outputId": "2910fd31-9011-41ed-dc76-7cf349b5ef21"
   },
   "outputs": [
    {
     "name": "stdout",
     "output_type": "stream",
     "text": [
      "6611\n",
      "[('2 tablespoons vegetable oil , divided', {'entities': [(0, 1, 'STATE'), (2, 13, 'QUANTITY'), (14, 23, 'UNIT'), (24, 27, 'NAME'), (28, 29, 'NAME'), (30, 37, 'O')]}), ('2 tablespoons dried marjoram', {'entities': [(0, 1, 'NAME'), (2, 13, 'QUANTITY'), (14, 19, 'UNIT'), (20, 28, 'DF')]})]\n",
      "2187\n",
      "[('6 ounces fresh mushrooms , sliced', {'entities': [(0, 1, 'STATE'), (2, 8, 'QUANTITY'), (9, 14, 'UNIT'), (15, 24, 'DF'), (25, 26, 'NAME'), (27, 33, 'O')]}), ('4 corn tortillas', {'entities': [(0, 1, 'NAME'), (2, 6, 'QUANTITY'), (7, 16, 'NAME')]})]\n"
     ]
    }
   ],
   "source": [
    "# apply on train and test set\n",
    "train_entities = get_entity_tuple(df_train)\n",
    "test_entities = get_entity_tuple(df_test)"
   ]
  },
  {
   "cell_type": "code",
   "execution_count": 14,
   "metadata": {
    "colab": {
     "base_uri": "https://localhost:8080/"
    },
    "id": "ss_Qb_SYbc-O",
    "outputId": "2174d324-78d0-42b1-82b9-c7fc5d5c45ea"
   },
   "outputs": [
    {
     "name": "stderr",
     "output_type": "stream",
     "text": [
      "100%|█████████████████████████████████████████████████████████████████████████████████████████████████████████████████| 6611/6611 [00:12<00:00, 522.36it/s]\n"
     ]
    },
    {
     "name": "stdout",
     "output_type": "stream",
     "text": [
      "Skipping entity\n"
     ]
    }
   ],
   "source": [
    "db = DocBin()\n",
    "nlp = spacy.load(\"en_core_web_sm\")\n",
    "\n",
    "for text, annot in tqdm(train_entities): # data in previous format\n",
    "    doc = nlp.make_doc(text) # create doc object from text\n",
    "    ents = []\n",
    "    for start, end, label in annot[\"entities\"]: # add character indexes\n",
    "        span = doc.char_span(start, end, label=label, alignment_mode=\"contract\")\n",
    "        if span is None:\n",
    "            print(\"Skipping entity\")\n",
    "        else:\n",
    "            ents.append(span)\n",
    "    doc.ents = ents # label the text with the ents\n",
    "    db.add(doc)\n",
    "    \n",
    "db.to_disk(\"./train.spacy\") # save the docbin object\n"
   ]
  },
  {
   "cell_type": "code",
   "execution_count": 15,
   "metadata": {},
   "outputs": [
    {
     "name": "stderr",
     "output_type": "stream",
     "text": [
      "100%|████████████████████████████████████████████████████████████████████████████████████████████████████████████████| 2187/2187 [00:00<00:00, 6043.65it/s]\n"
     ]
    },
    {
     "name": "stdout",
     "output_type": "stream",
     "text": [
      "Skipping entity\n"
     ]
    }
   ],
   "source": [
    "db = DocBin()\n",
    "nlp = spacy.load(\"en_core_web_sm\")\n",
    "\n",
    "for text, annot in tqdm(test_entities): # data in previous format\n",
    "    doc = nlp.make_doc(text) # create doc object from text\n",
    "    ents = []\n",
    "    for start, end, label in annot[\"entities\"]: # add character indexes\n",
    "        span = doc.char_span(start, end, label=label, alignment_mode=\"contract\")\n",
    "        if span is None:\n",
    "            print(\"Skipping entity\")\n",
    "        else:\n",
    "            ents.append(span)\n",
    "    doc.ents = ents # label the text with the ents\n",
    "    db.add(doc)\n",
    "    \n",
    "db.to_disk(\"./test.spacy\") # save the docbin object"
   ]
  },
  {
   "cell_type": "code",
   "execution_count": 11,
   "metadata": {
    "colab": {
     "base_uri": "https://localhost:8080/"
    },
    "id": "kp0Ox9dpeDbL",
    "outputId": "fedfd5ef-e00b-4f5e-9ca9-5d8f74d3d140"
   },
   "outputs": [
    {
     "name": "stdout",
     "output_type": "stream",
     "text": [
      "[+] Auto-filled config with all values\n",
      "[+] Saved config\n",
      "config.cfg\n",
      "You can now add your data and train your pipeline:\n",
      "python -m spacy train config.cfg --paths.train ./train.spacy --paths.dev ./dev.spacy\n"
     ]
    },
    {
     "name": "stderr",
     "output_type": "stream",
     "text": [
      "2023-02-14 15:04:04.618271: W tensorflow/stream_executor/platform/default/dso_loader.cc:64] Could not load dynamic library 'cudart64_110.dll'; dlerror: cudart64_110.dll not found\n",
      "2023-02-14 15:04:04.618606: I tensorflow/stream_executor/cuda/cudart_stub.cc:29] Ignore above cudart dlerror if you do not have a GPU set up on your machine.\n",
      "2023-02-14 15:04:26.471750: W tensorflow/stream_executor/platform/default/dso_loader.cc:64] Could not load dynamic library 'cudart64_110.dll'; dlerror: cudart64_110.dll not found\n",
      "2023-02-14 15:04:26.473079: W tensorflow/stream_executor/platform/default/dso_loader.cc:64] Could not load dynamic library 'cublas64_11.dll'; dlerror: cublas64_11.dll not found\n",
      "2023-02-14 15:04:26.476216: W tensorflow/stream_executor/platform/default/dso_loader.cc:64] Could not load dynamic library 'cublasLt64_11.dll'; dlerror: cublasLt64_11.dll not found\n",
      "2023-02-14 15:04:26.478751: W tensorflow/stream_executor/platform/default/dso_loader.cc:64] Could not load dynamic library 'cufft64_10.dll'; dlerror: cufft64_10.dll not found\n",
      "2023-02-14 15:04:26.480615: W tensorflow/stream_executor/platform/default/dso_loader.cc:64] Could not load dynamic library 'curand64_10.dll'; dlerror: curand64_10.dll not found\n",
      "2023-02-14 15:04:26.481866: W tensorflow/stream_executor/platform/default/dso_loader.cc:64] Could not load dynamic library 'cusolver64_11.dll'; dlerror: cusolver64_11.dll not found\n",
      "2023-02-14 15:04:26.483024: W tensorflow/stream_executor/platform/default/dso_loader.cc:64] Could not load dynamic library 'cusparse64_11.dll'; dlerror: cusparse64_11.dll not found\n",
      "2023-02-14 15:04:26.484376: W tensorflow/stream_executor/platform/default/dso_loader.cc:64] Could not load dynamic library 'cudnn64_8.dll'; dlerror: cudnn64_8.dll not found\n",
      "2023-02-14 15:04:26.484795: W tensorflow/core/common_runtime/gpu/gpu_device.cc:1934] Cannot dlopen some GPU libraries. Please make sure the missing libraries mentioned above are installed properly if you would like to use GPU. Follow the guide at https://www.tensorflow.org/install/gpu for how to download and setup the required libraries for your platform.\n",
      "Skipping registering GPU devices...\n"
     ]
    }
   ],
   "source": [
    "!python -m spacy init fill-config base_config.cfg config.cfg"
   ]
  },
  {
   "cell_type": "code",
   "execution_count": null,
   "metadata": {
    "colab": {
     "base_uri": "https://localhost:8080/"
    },
    "id": "IJQycZmOlNno",
    "outputId": "daffd610-870e-45af-b14b-cf86be193cd8"
   },
   "outputs": [],
   "source": [
    "!python -m spacy train config.cfg --output ./output --paths.train ./train.spacy --paths.dev ./test.spacy"
   ]
  }
 ],
 "metadata": {
  "colab": {
   "provenance": []
  },
  "kernelspec": {
   "display_name": "Python 3 (ipykernel)",
   "language": "python",
   "name": "python3"
  },
  "language_info": {
   "codemirror_mode": {
    "name": "ipython",
    "version": 3
   },
   "file_extension": ".py",
   "mimetype": "text/x-python",
   "name": "python",
   "nbconvert_exporter": "python",
   "pygments_lexer": "ipython3",
   "version": "3.8.5"
  }
 },
 "nbformat": 4,
 "nbformat_minor": 1
}

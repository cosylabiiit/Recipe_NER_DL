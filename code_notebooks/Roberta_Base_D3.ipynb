{
  "cells": [
    {
      "cell_type": "code",
      "execution_count": 1,
      "id": "wLegrMpT4USE",
      "metadata": {
        "colab": {
          "base_uri": "https://localhost:8080/"
        },
        "id": "wLegrMpT4USE",
        "outputId": "ebfc6cd5-47c8-405a-e666-f205432268f3"
      },
      "outputs": [
        {
          "name": "stdout",
          "output_type": "stream",
          "text": [
            "Requirement already satisfied: transformers in /home/shashank19107/anaconda3/lib/python3.9/site-packages (4.29.0)\n",
            "Requirement already satisfied: filelock in /home/shashank19107/anaconda3/lib/python3.9/site-packages (from transformers) (3.6.0)\n",
            "Requirement already satisfied: tokenizers!=0.11.3,<0.14,>=0.11.1 in /home/shashank19107/anaconda3/lib/python3.9/site-packages (from transformers) (0.13.3)\n",
            "Requirement already satisfied: numpy>=1.17 in /home/shashank19107/anaconda3/lib/python3.9/site-packages (from transformers) (1.21.5)\n",
            "Requirement already satisfied: pyyaml>=5.1 in /home/shashank19107/anaconda3/lib/python3.9/site-packages (from transformers) (6.0)\n",
            "Requirement already satisfied: regex!=2019.12.17 in /home/shashank19107/anaconda3/lib/python3.9/site-packages (from transformers) (2022.7.9)\n",
            "Requirement already satisfied: huggingface-hub<1.0,>=0.11.0 in /home/shashank19107/anaconda3/lib/python3.9/site-packages (from transformers) (0.13.4)\n",
            "Requirement already satisfied: packaging>=20.0 in /home/shashank19107/anaconda3/lib/python3.9/site-packages (from transformers) (21.3)\n",
            "Requirement already satisfied: requests in /home/shashank19107/anaconda3/lib/python3.9/site-packages (from transformers) (2.28.1)\n",
            "Requirement already satisfied: tqdm>=4.27 in /home/shashank19107/anaconda3/lib/python3.9/site-packages (from transformers) (4.64.1)\n",
            "Requirement already satisfied: typing-extensions>=3.7.4.3 in /home/shashank19107/anaconda3/lib/python3.9/site-packages (from huggingface-hub<1.0,>=0.11.0->transformers) (4.3.0)\n",
            "Requirement already satisfied: pyparsing!=3.0.5,>=2.0.2 in /home/shashank19107/anaconda3/lib/python3.9/site-packages (from packaging>=20.0->transformers) (3.0.9)\n",
            "Requirement already satisfied: certifi>=2017.4.17 in /home/shashank19107/anaconda3/lib/python3.9/site-packages (from requests->transformers) (2022.9.14)\n",
            "Requirement already satisfied: idna<4,>=2.5 in /home/shashank19107/anaconda3/lib/python3.9/site-packages (from requests->transformers) (3.3)\n",
            "Requirement already satisfied: urllib3<1.27,>=1.21.1 in /home/shashank19107/anaconda3/lib/python3.9/site-packages (from requests->transformers) (1.26.11)\n",
            "Requirement already satisfied: charset-normalizer<3,>=2 in /home/shashank19107/anaconda3/lib/python3.9/site-packages (from requests->transformers) (2.0.4)\n",
            "Requirement already satisfied: sentencepiece in /home/shashank19107/anaconda3/lib/python3.9/site-packages (0.1.99)\n"
          ]
        }
      ],
      "source": [
        "!pip install transformers\n",
        "!pip install sentencepiece"
      ]
    },
    {
      "cell_type": "code",
      "execution_count": 2,
      "id": "1acbd8d2",
      "metadata": {
        "id": "1acbd8d2"
      },
      "outputs": [],
      "source": [
        "import warnings\n",
        "warnings.filterwarnings('ignore')\n",
        "\n",
        "import numpy as np\n",
        "import pandas as pd\n",
        "import seaborn as sns\n",
        "import matplotlib.pyplot as plt\n",
        "from tqdm import tqdm\n",
        "\n",
        "import transformers\n",
        "from transformers import AutoTokenizer, BertTokenizer, RobertaTokenizerFast, RobertaForTokenClassification\n",
        "from transformers import  BertForTokenClassification, RobertaTokenizer, RobertaModel\n",
        "from transformers import XLNetTokenizer, XLNetForTokenClassification, XLNetModel, TFAutoModel\n",
        "from torch.optim import AdamW\n",
        "\n",
        "import torch\n",
        "import torch.nn as nn\n",
        "from torch.optim import SGD\n",
        "import torch.nn.functional as F\n",
        "from torch.utils.data import DataLoader\n",
        "\n",
        "from sklearn.metrics import accuracy_score,f1_score, precision_score, recall_score"
      ]
    },
    {
      "cell_type": "code",
      "execution_count": 3,
      "id": "1200b91d",
      "metadata": {
        "id": "1200b91d"
      },
      "outputs": [],
      "source": [
        "class DistilbertNER(nn.Module):\n",
        "  \"\"\"\n",
        "  Implement NN class based on distilbert pretrained from Hugging face.\n",
        "  Inputs : \n",
        "    tokens_dim : int specifyng the dimension of the classifier\n",
        "  \"\"\"\n",
        "  \n",
        "  def __init__(self, tokens_dim):\n",
        "    super(DistilbertNER,self).__init__()\n",
        "    \n",
        "    if type(tokens_dim) != int:\n",
        "            raise TypeError('Please tokens_dim should be an integer')\n",
        "\n",
        "    if tokens_dim <= 0:\n",
        "          raise ValueError('Classification layer dimension should be at least 1')\n",
        "\n",
        "    self.pretrained = RobertaForTokenClassification.from_pretrained(\"roberta-base\", num_labels = tokens_dim) #set the output of each token classifier = unique_lables\n",
        "\n",
        "\n",
        "  def forward(self, input_ids, attention_mask, labels = None): #labels are needed in order to compute the loss\n",
        "    \"\"\"\n",
        "  Forwad computation of the network\n",
        "  Input:\n",
        "    - inputs_ids : from model tokenizer\n",
        "    - attention :  mask from model tokenizer\n",
        "    - labels : if given the model is able to return the loss value\n",
        "  \"\"\"\n",
        "\n",
        "    #inference time no labels\n",
        "    if labels == None:\n",
        "      out = self.pretrained(input_ids = input_ids, attention_mask = attention_mask )\n",
        "      return out\n",
        "\n",
        "    out = self.pretrained(input_ids = input_ids, attention_mask = attention_mask , labels = labels)\n",
        "    return out"
      ]
    },
    {
      "cell_type": "code",
      "execution_count": 4,
      "id": "P3kBZf0TrGW-",
      "metadata": {
        "id": "P3kBZf0TrGW-"
      },
      "outputs": [],
      "source": [
        "import warnings\n",
        "warnings.filterwarnings('ignore')\n",
        "\n",
        "import numpy as np\n",
        "import pandas as pd\n",
        "import seaborn as sns\n",
        "import matplotlib.pyplot as plt\n",
        "from tqdm import tqdm\n",
        "\n",
        "import transformers\n",
        "from transformers import AutoTokenizer\n",
        "from transformers import  DistilBertForTokenClassification\n",
        "from transformers import XLNetTokenizer, XLNetModel, TFAutoModel\n",
        "from torch.optim import AdamW\n",
        "\n",
        "import torch\n",
        "import torch.nn as nn\n",
        "from torch.optim import SGD\n",
        "import torch.nn.functional as F\n",
        "from torch.utils.data import DataLoader\n",
        "\n",
        "from sklearn.metrics import accuracy_score,f1_score, precision_score, recall_score"
      ]
    },
    {
      "cell_type": "code",
      "execution_count": 5,
      "id": "wP5QTUvsrCNQ",
      "metadata": {
        "id": "wP5QTUvsrCNQ"
      },
      "outputs": [],
      "source": [
        "import warnings\n",
        "warnings.filterwarnings('ignore')\n",
        "\n",
        "import numpy as np\n",
        "import pandas as pd\n",
        "import seaborn as sns\n",
        "import matplotlib.pyplot as plt\n",
        "from tqdm import tqdm\n",
        "\n",
        "import transformers\n",
        "from transformers import AutoTokenizer\n",
        "from transformers import  DistilBertForTokenClassification\n",
        "from transformers import XLNetTokenizer, XLNetModel, TFAutoModel\n",
        "from torch.optim import AdamW\n",
        "\n",
        "import torch\n",
        "import torch.nn as nn\n",
        "from torch.optim import SGD\n",
        "import torch.nn.functional as F\n",
        "from torch.utils.data import DataLoader\n",
        "\n",
        "from sklearn.metrics import accuracy_score,f1_score, precision_score, recall_score"
      ]
    },
    {
      "cell_type": "code",
      "execution_count": 6,
      "id": "db2f6031",
      "metadata": {
        "id": "db2f6031"
      },
      "outputs": [],
      "source": [
        "class NerDataset(torch.utils.data.Dataset):\n",
        "  \"\"\"\n",
        "  Custom dataset implementation to get (text,labels) tuples\n",
        "  Inputs:\n",
        "   - df : dataframe with columns [tags, sentence]\n",
        "  \"\"\"\n",
        "  \n",
        "  def __init__(self, df):\n",
        "    if not isinstance(df, pd.DataFrame):\n",
        "      raise TypeError('Input should be a dataframe')\n",
        "    \n",
        "    if \"tags\" not in df.columns or \"sentence\" not in df.columns:\n",
        "      raise ValueError(\"Dataframe should contain 'tags' and 'sentence' columns\")\n",
        "\n",
        "     \n",
        "    \n",
        "    tags_list = [i.split() for i in df[\"tags\"].values.tolist()]\n",
        "    texts = df[\"sentence\"].values.tolist()\n",
        "\n",
        "    self.texts = [tokenizer(text, padding = \"max_length\", truncation = True, return_tensors = \"pt\") for text in texts]\n",
        "    self.labels = [match_tokens_labels(text, tags) for text,tags in zip(self.texts, tags_list)]\n",
        "\n",
        "  def __len__(self):\n",
        "    return len(self.labels)\n",
        "\n",
        "  def __getitem__(self, idx):\n",
        "    batch_text = self.texts[idx]\n",
        "    batch_labels = self.labels[idx]\n",
        "\n",
        "    return batch_text, torch.LongTensor(batch_labels)"
      ]
    },
    {
      "cell_type": "code",
      "execution_count": 7,
      "id": "450b90f1",
      "metadata": {
        "id": "450b90f1"
      },
      "outputs": [],
      "source": [
        "class MetricsTracking():\n",
        "  \"\"\"\n",
        "  In order make the train loop lighter I define this class to track all the metrics that we are going to measure for our model.\n",
        "  \"\"\"\n",
        "  def __init__(self):\n",
        "\n",
        "    self.total_acc = 0\n",
        "    self.total_f1 = 0\n",
        "    self.total_precision = 0\n",
        "    self.total_recall = 0\n",
        "\n",
        "  def update(self, predictions, labels , ignore_token = -100):\n",
        "    '''\n",
        "    Call this function every time you need to update your metrics.\n",
        "    Where in the train there was a -100, were additional token that we dont want to label, so remove them.\n",
        "    If we flatten the batch its easier to access the indexed = -100\n",
        "    '''  \n",
        "    predictions = predictions.flatten()\n",
        "    labels = labels.flatten()\n",
        "    \n",
        "    predictions = predictions[labels != ignore_token]\n",
        "    labels = labels[labels != ignore_token]\n",
        "\n",
        "    predictions = predictions.to(\"cpu\")\n",
        "    labels = labels.to(\"cpu\")\n",
        "\n",
        "    acc = accuracy_score(labels,predictions)\n",
        "    f1 = f1_score(labels, predictions, average = \"macro\")\n",
        "    precision = precision_score(labels, predictions, average = \"macro\")\n",
        "    recall = recall_score(labels, predictions, average = \"macro\")\n",
        "\n",
        "    self.total_acc  += acc\n",
        "    self.total_f1 += f1\n",
        "    self.total_precision += precision\n",
        "    self.total_recall  += recall\n",
        "\n",
        "  def return_avg_metrics(self,data_loader_size):\n",
        "    n = data_loader_size\n",
        "    metrics = {\n",
        "        \"acc\": round(self.total_acc / n ,3), \n",
        "        \"f1\": round(self.total_f1 / n, 3), \n",
        "        \"precision\" : round(self.total_precision / n, 3), \n",
        "        \"recall\": round(self.total_recall / n, 3)\n",
        "          }\n",
        "    return metrics   "
      ]
    },
    {
      "cell_type": "code",
      "execution_count": 8,
      "id": "95856355",
      "metadata": {
        "id": "95856355"
      },
      "outputs": [],
      "source": [
        "def tags_2_labels(tags : str, tag2idx : dict):\n",
        "  '''\n",
        "  Method that takes a list of tags and a dictionary mapping and returns a list of labels (associated).\n",
        "  Used to create the \"label\" column in df from the \"tags\" column.\n",
        "  '''\n",
        "  return [tag2idx[tag] if tag in tag2idx else unseen_label for tag in tags.split()] "
      ]
    },
    {
      "cell_type": "code",
      "execution_count": 9,
      "id": "d03539de",
      "metadata": {
        "id": "d03539de"
      },
      "outputs": [],
      "source": [
        "def tags_mapping(tags_series : pd.Series):\n",
        "  \"\"\"\n",
        "  tag_series = df column with tags for each sentence.\n",
        "  Returns:\n",
        "    - dictionary mapping tags to indexes (label)\n",
        "    - dictionary mappign inedexes to tags\n",
        "    - The label corresponding to tag 'O'\n",
        "    - A set of unique tags ecountered in the trainind df, this will define the classifier dimension\n",
        "  \"\"\"\n",
        "\n",
        "  if not isinstance(tags_series, pd.Series):\n",
        "      raise TypeError('Input should be a padas Series')\n",
        "\n",
        "  unique_tags = set()\n",
        "  \n",
        "  for tag_list in df_train[\"tags\"]:\n",
        "    for tag in tag_list.split():\n",
        "      unique_tags.add(tag)\n",
        "\n",
        "\n",
        "  tag2idx = {k:v for v,k in enumerate(sorted(unique_tags))}\n",
        "  idx2tag = {k:v for v,k in tag2idx.items()}\n",
        "\n",
        "  unseen_label = tag2idx[\"O\"]\n",
        "\n",
        "  return tag2idx, idx2tag, unseen_label, unique_tags"
      ]
    },
    {
      "cell_type": "code",
      "execution_count": 10,
      "id": "46b37054",
      "metadata": {
        "id": "46b37054"
      },
      "outputs": [],
      "source": [
        "def match_tokens_labels(tokenized_input, tags, ignore_token = -100):\n",
        "        '''\n",
        "        Used in the custom dataset.\n",
        "        -100 will be tha label used to match additional tokens like [CLS] [PAD] that we dont care about. \n",
        "        Inputs : \n",
        "          - tokenized_input : tokenizer over the imput text -> {input_ids, attention_mask}\n",
        "          - tags : is a single label array -> [O O O O O O O O O O O O O O B-tim O]\n",
        "        \n",
        "        Returns a list of labels that match the tokenized text -> [-100, 3,5,6,-100,...]\n",
        "        '''\n",
        "\n",
        "        #gives an array [ None , 0 , 1 ,2 ,... None]. Each index tells the word of reference of the token\n",
        "        word_ids = tokenized_input.word_ids()\n",
        "\n",
        "        previous_word_idx = None\n",
        "        label_ids = []\n",
        "\n",
        "        for word_idx in word_ids:\n",
        "\n",
        "            if word_idx is None:\n",
        "                label_ids.append(ignore_token)\n",
        "\n",
        "            #if its equal to the previous word we can add the same label id of the provious or -100 \n",
        "            else :\n",
        "                try:\n",
        "                  reference_tag = tags[word_idx]\n",
        "                  label_ids.append(tag2idx[reference_tag])\n",
        "                except:\n",
        "                  label_ids.append(ignore_token)\n",
        "              \n",
        "            \n",
        "            previous_word_idx = word_idx\n",
        "\n",
        "        return label_ids"
      ]
    },
    {
      "cell_type": "code",
      "execution_count": 11,
      "id": "744d4a38",
      "metadata": {
        "id": "744d4a38"
      },
      "outputs": [],
      "source": [
        "def freeze_model(model,num_layers = 1):\n",
        "  \"\"\"\n",
        "  Freeze last num_layers of a model to prevent ctastrophic forgetting.\n",
        "  Doesn't seem to work weel, its better to fine tune the entire netwok\n",
        "  \"\"\"\n",
        "  for id , params in enumerate(model.parameters()):\n",
        "    if id == len(list(model.parameters())) - num_layers: \n",
        "      print(\"last layer unfreezed\")\n",
        "      params.requires_grad = True\n",
        "    else:\n",
        "      params.requires_grad = False\n",
        "  return model"
      ]
    },
    {
      "cell_type": "code",
      "execution_count": 12,
      "id": "e3a7b10d",
      "metadata": {
        "id": "e3a7b10d"
      },
      "outputs": [],
      "source": [
        "def train_loop(model, train_dataset, dev_dataset, optimizer,  batch_size, epochs):\n",
        "\n",
        "  train_dataloader = DataLoader(train_dataset, batch_size = batch_size, shuffle = True)\n",
        "  dev_dataloader = DataLoader(dev_dataset, batch_size = batch_size, shuffle = True)\n",
        "\n",
        "  device = torch.device(\"cuda\" if torch.cuda.is_available() else \"cpu\")\n",
        "  model = model.to(device)\n",
        "\n",
        "  train_metrics_list = {'loss':[], 'acc':[], 'precision':[], 'recall':[], 'f1':[] }\n",
        "  test_metrics_list = {'loss':[], 'acc':[], 'precision':[], 'recall':[], 'f1':[] }\n",
        "\n",
        "\n",
        "\n",
        "  for epoch in range(epochs): \n",
        "    \n",
        "    train_metrics = MetricsTracking()\n",
        "    total_loss_train = 0\n",
        "\n",
        "    model.train() #train mode\n",
        "\n",
        "    for train_data, train_label in tqdm(train_dataloader):\n",
        "\n",
        "      train_label = train_label.to(device)\n",
        "      '''\n",
        "      squeeze in order to match the sizes. From [batch,1,seq_len] --> [batch,seq_len] \n",
        "      '''\n",
        "      mask = train_data['attention_mask'].squeeze(1).to(device)\n",
        "      input_id = train_data['input_ids'].squeeze(1).to(device)\n",
        "\n",
        "      optimizer.zero_grad()\n",
        "      \n",
        "      output = model(input_id, mask, train_label)\n",
        "      loss, logits = output.loss, output.logits\n",
        "      predictions = logits.argmax(dim= -1) \n",
        "\n",
        "      #compute metrics\n",
        "      train_metrics.update(predictions, train_label)\n",
        "      total_loss_train += loss.item()\n",
        "\n",
        "      #grad step\n",
        "      loss.backward()\n",
        "      optimizer.step()\n",
        "    \n",
        "    '''\n",
        "    EVALUATION MODE\n",
        "    '''            \n",
        "    model.eval()\n",
        "\n",
        "    dev_metrics = MetricsTracking()\n",
        "    total_loss_dev = 0\n",
        "    \n",
        "    with torch.no_grad():\n",
        "      for dev_data, dev_label in dev_dataloader:\n",
        "\n",
        "        dev_label = dev_label.to(device)\n",
        "\n",
        "        mask = dev_data['attention_mask'].squeeze(1).to(device)\n",
        "        input_id = dev_data['input_ids'].squeeze(1).to(device)\n",
        "\n",
        "        output = model(input_id, mask, dev_label)\n",
        "        loss, logits = output.loss, output.logits\n",
        "\n",
        "        predictions = logits.argmax(dim= -1)     \n",
        "\n",
        "        dev_metrics.update(predictions, dev_label)\n",
        "        total_loss_dev += loss.item()\n",
        "    \n",
        "    train_results = train_metrics.return_avg_metrics(len(train_dataloader))\n",
        "    dev_results = dev_metrics.return_avg_metrics(len(dev_dataloader))\n",
        "\n",
        "    train_metrics_list['loss'].append(total_loss_train / len(train_dataset))\n",
        "    train_metrics_list['acc'].append(train_results['acc'])\n",
        "    train_metrics_list['precision'].append(train_results['precision'])\n",
        "    train_metrics_list['recall'].append(train_results['recall'])\n",
        "    train_metrics_list['f1'].append(train_results['f1'])\n",
        "\n",
        "    test_metrics_list['loss'].append(total_loss_dev / len(dev_dataset))\n",
        "    test_metrics_list['acc'].append(dev_results['acc'])\n",
        "    test_metrics_list['precision'].append(dev_results['precision'])\n",
        "    test_metrics_list['recall'].append(dev_results['recall'])\n",
        "    test_metrics_list['f1'].append(dev_results['f1'])\n",
        "\n",
        "    print(f\"TRAIN \\nLoss: {total_loss_train / len(train_dataset)} \\nMetrics {train_results}\\n\" ) \n",
        "    print(f\"VALIDATION \\nLoss {total_loss_dev / len(dev_dataset)} \\nMetrics{dev_results}\\n\" )\n",
        "  return train_metrics_list, test_metrics_list"
      ]
    },
    {
      "cell_type": "code",
      "execution_count": 13,
      "id": "e7601164",
      "metadata": {
        "id": "e7601164"
      },
      "outputs": [],
      "source": [
        "df_train=pd.read_csv('Machine_Annotated_train.csv', index_col=False, encoding='utf-8', encoding_errors='ignore')\n",
        "# # df_train.columns=['sentence','tags']\n",
        "\n",
        "df_test=pd.read_csv('Machine_Annotated_test.csv', index_col=False, encoding='utf-8', encoding_errors='ignore')\n",
        "\n",
        "df_dev=df_test"
      ]
    },
    {
      "cell_type": "code",
      "execution_count": 14,
      "id": "4b9ce60a",
      "metadata": {},
      "outputs": [
        {
          "data": {
            "text/html": [
              "<div>\n",
              "<style scoped>\n",
              "    .dataframe tbody tr th:only-of-type {\n",
              "        vertical-align: middle;\n",
              "    }\n",
              "\n",
              "    .dataframe tbody tr th {\n",
              "        vertical-align: top;\n",
              "    }\n",
              "\n",
              "    .dataframe thead th {\n",
              "        text-align: right;\n",
              "    }\n",
              "</style>\n",
              "<table border=\"1\" class=\"dataframe\">\n",
              "  <thead>\n",
              "    <tr style=\"text-align: right;\">\n",
              "      <th></th>\n",
              "      <th>sentence</th>\n",
              "      <th>tags</th>\n",
              "    </tr>\n",
              "  </thead>\n",
              "  <tbody>\n",
              "    <tr>\n",
              "      <th>0</th>\n",
              "      <td>salt &amp; pepper , to taste</td>\n",
              "      <td>NAME NAME NAME O O O</td>\n",
              "    </tr>\n",
              "    <tr>\n",
              "      <th>1</th>\n",
              "      <td>Pam cooking spray</td>\n",
              "      <td>NAME NAME NAME</td>\n",
              "    </tr>\n",
              "    <tr>\n",
              "      <th>2</th>\n",
              "      <td>pico de gallo , for topping</td>\n",
              "      <td>NAME NAME NAME O O O</td>\n",
              "    </tr>\n",
              "    <tr>\n",
              "      <th>3</th>\n",
              "      <td>mixed salad green</td>\n",
              "      <td>NAME NAME NAME</td>\n",
              "    </tr>\n",
              "    <tr>\n",
              "      <th>4</th>\n",
              "      <td>hot pepper sauce</td>\n",
              "      <td>NAME NAME NAME</td>\n",
              "    </tr>\n",
              "  </tbody>\n",
              "</table>\n",
              "</div>"
            ],
            "text/plain": [
              "                      sentence                  tags\n",
              "0     salt & pepper , to taste  NAME NAME NAME O O O\n",
              "1            Pam cooking spray        NAME NAME NAME\n",
              "2  pico de gallo , for topping  NAME NAME NAME O O O\n",
              "3            mixed salad green        NAME NAME NAME\n",
              "4             hot pepper sauce        NAME NAME NAME"
            ]
          },
          "execution_count": 14,
          "metadata": {},
          "output_type": "execute_result"
        }
      ],
      "source": [
        "df_train.head()"
      ]
    },
    {
      "cell_type": "code",
      "execution_count": 15,
      "id": "15a87fdd",
      "metadata": {},
      "outputs": [
        {
          "data": {
            "text/html": [
              "<div>\n",
              "<style scoped>\n",
              "    .dataframe tbody tr th:only-of-type {\n",
              "        vertical-align: middle;\n",
              "    }\n",
              "\n",
              "    .dataframe tbody tr th {\n",
              "        vertical-align: top;\n",
              "    }\n",
              "\n",
              "    .dataframe thead th {\n",
              "        text-align: right;\n",
              "    }\n",
              "</style>\n",
              "<table border=\"1\" class=\"dataframe\">\n",
              "  <thead>\n",
              "    <tr style=\"text-align: right;\">\n",
              "      <th></th>\n",
              "      <th>sentence</th>\n",
              "      <th>tags</th>\n",
              "    </tr>\n",
              "  </thead>\n",
              "  <tbody>\n",
              "    <tr>\n",
              "      <th>0</th>\n",
              "      <td>romaine lettuce leaf -LRB- or Boston -RRB-</td>\n",
              "      <td>NAME NAME NAME O O O O</td>\n",
              "    </tr>\n",
              "    <tr>\n",
              "      <th>1</th>\n",
              "      <td>red food coloring -LRB- optional -RRB-</td>\n",
              "      <td>NAME NAME NAME O O O</td>\n",
              "    </tr>\n",
              "    <tr>\n",
              "      <th>2</th>\n",
              "      <td>Southern Comfort -LRB- Jack Daniels is too str...</td>\n",
              "      <td>NAME NAME O NAME O O O O O</td>\n",
              "    </tr>\n",
              "    <tr>\n",
              "      <th>3</th>\n",
              "      <td>lemon balsamic vinaigrette</td>\n",
              "      <td>NAME NAME NAME</td>\n",
              "    </tr>\n",
              "    <tr>\n",
              "      <th>4</th>\n",
              "      <td>onion soup mix</td>\n",
              "      <td>NAME NAME NAME</td>\n",
              "    </tr>\n",
              "  </tbody>\n",
              "</table>\n",
              "</div>"
            ],
            "text/plain": [
              "                                            sentence  \\\n",
              "0         romaine lettuce leaf -LRB- or Boston -RRB-   \n",
              "1             red food coloring -LRB- optional -RRB-   \n",
              "2  Southern Comfort -LRB- Jack Daniels is too str...   \n",
              "3                         lemon balsamic vinaigrette   \n",
              "4                                     onion soup mix   \n",
              "\n",
              "                         tags  \n",
              "0      NAME NAME NAME O O O O  \n",
              "1        NAME NAME NAME O O O  \n",
              "2  NAME NAME O NAME O O O O O  \n",
              "3              NAME NAME NAME  \n",
              "4              NAME NAME NAME  "
            ]
          },
          "execution_count": 15,
          "metadata": {},
          "output_type": "execute_result"
        }
      ],
      "source": [
        "df_test.head()"
      ]
    },
    {
      "cell_type": "code",
      "execution_count": 16,
      "id": "df9f0792",
      "metadata": {
        "id": "df9f0792"
      },
      "outputs": [],
      "source": [
        "train_texts = df_train.sentence.values.tolist()\n",
        "train_labels= df_train.tags.values.tolist()\n",
        "\n",
        "test_texts = df_test.sentence.values.tolist()\n",
        "test_labels= df_test.tags.values.tolist()"
      ]
    },
    {
      "cell_type": "code",
      "execution_count": 17,
      "id": "a87e2b1c",
      "metadata": {
        "id": "a87e2b1c"
      },
      "outputs": [],
      "source": [
        "\n",
        "#create tag-label mapping\n",
        "tag2idx, idx2tag , unseen_label, unique_tags = tags_mapping(df_train[\"tags\"])\n",
        "\n",
        "#create the label column from tag. Unseen labels will be tagged as \"O\"\n",
        "for df in [df_train, df_dev, df_test]:\n",
        "  df[\"labels\"] = df[\"tags\"].apply(lambda tags : tags_2_labels(tags, tag2idx))"
      ]
    },
    {
      "cell_type": "code",
      "execution_count": 18,
      "id": "b29a7eb7",
      "metadata": {
        "id": "b29a7eb7"
      },
      "outputs": [],
      "source": [
        "#original text\n",
        "text = df_train[\"sentence\"].values.tolist()\n",
        "\n",
        "#toeknized text\n",
        "tokenizer = RobertaTokenizerFast.from_pretrained(\"roberta-base\")\n",
        "text_tokenized = tokenizer(text , padding ='max_length', truncation = True, return_tensors = \"pt\" )\n",
        "\n",
        "#mapping token to original word\n",
        "word_ids = text_tokenized.word_ids()"
      ]
    },
    {
      "cell_type": "code",
      "execution_count": 19,
      "id": "17fe8418",
      "metadata": {
        "colab": {
          "base_uri": "https://localhost:8080/",
          "height": 505
        },
        "id": "17fe8418",
        "outputId": "0c47014b-d253-4657-feac-54fbe0480fd8"
      },
      "outputs": [
        {
          "name": "stderr",
          "output_type": "stream",
          "text": [
            "Some weights of the model checkpoint at roberta-base were not used when initializing RobertaForTokenClassification: ['lm_head.dense.weight', 'lm_head.dense.bias', 'lm_head.decoder.weight', 'lm_head.layer_norm.bias', 'lm_head.bias', 'lm_head.layer_norm.weight']\n",
            "- This IS expected if you are initializing RobertaForTokenClassification from the checkpoint of a model trained on another task or with another architecture (e.g. initializing a BertForSequenceClassification model from a BertForPreTraining model).\n",
            "- This IS NOT expected if you are initializing RobertaForTokenClassification from the checkpoint of a model that you expect to be exactly identical (initializing a BertForSequenceClassification model from a BertForSequenceClassification model).\n",
            "Some weights of RobertaForTokenClassification were not initialized from the model checkpoint at roberta-base and are newly initialized: ['classifier.weight', 'classifier.bias']\n",
            "You should probably TRAIN this model on a down-stream task to be able to use it for predictions and inference.\n",
            "100%|██████████| 1914/1914 [39:50<00:00,  1.25s/it]\n"
          ]
        },
        {
          "name": "stdout",
          "output_type": "stream",
          "text": [
            "TRAIN \n",
            "Loss: 0.006084476206477982 \n",
            "Metrics {'acc': 0.91, 'f1': 0.87, 'precision': 0.889, 'recall': 0.865}\n",
            "\n",
            "VALIDATION \n",
            "Loss 0.004928344979989842 \n",
            "Metrics{'acc': 0.929, 'f1': 0.916, 'precision': 0.919, 'recall': 0.921}\n",
            "\n"
          ]
        },
        {
          "name": "stderr",
          "output_type": "stream",
          "text": [
            "100%|██████████| 1914/1914 [39:50<00:00,  1.25s/it]\n"
          ]
        },
        {
          "name": "stdout",
          "output_type": "stream",
          "text": [
            "TRAIN \n",
            "Loss: 0.003647927098547641 \n",
            "Metrics {'acc': 0.943, 'f1': 0.933, 'precision': 0.943, 'recall': 0.93}\n",
            "\n",
            "VALIDATION \n",
            "Loss 0.003545731340081364 \n",
            "Metrics{'acc': 0.947, 'f1': 0.94, 'precision': 0.936, 'recall': 0.95}\n",
            "\n"
          ]
        },
        {
          "name": "stderr",
          "output_type": "stream",
          "text": [
            "100%|██████████| 1914/1914 [39:51<00:00,  1.25s/it]\n"
          ]
        },
        {
          "name": "stdout",
          "output_type": "stream",
          "text": [
            "TRAIN \n",
            "Loss: 0.0034315441288117264 \n",
            "Metrics {'acc': 0.946, 'f1': 0.936, 'precision': 0.945, 'recall': 0.934}\n",
            "\n",
            "VALIDATION \n",
            "Loss 0.003530532014923942 \n",
            "Metrics{'acc': 0.946, 'f1': 0.939, 'precision': 0.935, 'recall': 0.948}\n",
            "\n"
          ]
        },
        {
          "name": "stderr",
          "output_type": "stream",
          "text": [
            "100%|██████████| 1914/1914 [39:48<00:00,  1.25s/it]\n"
          ]
        },
        {
          "name": "stdout",
          "output_type": "stream",
          "text": [
            "TRAIN \n",
            "Loss: 0.03135179062355518 \n",
            "Metrics {'acc': 0.465, 'f1': 0.238, 'precision': 0.229, 'recall': 0.275}\n",
            "\n",
            "VALIDATION \n",
            "Loss 0.04412479932952977 \n",
            "Metrics{'acc': 0.285, 'f1': 0.06, 'precision': 0.038, 'recall': 0.135}\n",
            "\n"
          ]
        },
        {
          "name": "stderr",
          "output_type": "stream",
          "text": [
            " 74%|███████▍  | 1421/1914 [29:34<10:15,  1.25s/it]"
          ]
        }
      ],
      "source": [
        "model = DistilbertNER(len(unique_tags))\n",
        "#Prevent Catastrofic Forgetting\n",
        "#model = freeze_model(model, num_layers = 2)\n",
        "\n",
        "#datasets\n",
        "train_dataset = NerDataset(df_train)\n",
        "dev_dataset = NerDataset(df_dev)\n",
        "\n",
        "lr = 1e-2\n",
        "optimizer = SGD(model.parameters(), lr=lr, momentum = 0.9)  \n",
        "\n",
        "\n",
        "#MAIN\n",
        "parameters = {\n",
        "    \"model\": model,\n",
        "    \"train_dataset\": train_dataset,\n",
        "    \"dev_dataset\" : dev_dataset,\n",
        "    \"optimizer\" : optimizer,\n",
        "    \"batch_size\" : 44,\n",
        "    \"epochs\" : 8\n",
        "}\n",
        "\n",
        "train_metrics_list, test_metrics_list = train_loop(**parameters)"
      ]
    },
    {
      "cell_type": "markdown",
      "id": "43f5cbab",
      "metadata": {},
      "source": []
    },
    {
      "cell_type": "code",
      "execution_count": null,
      "id": "yTYyF0JrN7BL",
      "metadata": {
        "id": "yTYyF0JrN7BL"
      },
      "outputs": [
        {
          "data": {
            "text/plain": [
              "{'loss': [0.004496240207940727,\n",
              "  0.0025969491610460496,\n",
              "  0.002123343942366972,\n",
              "  0.0017388234349389985,\n",
              "  0.0014884214918873915,\n",
              "  0.0013061050105973866,\n",
              "  0.001595712667870856,\n",
              "  0.001356196629514717],\n",
              " 'acc': [0.933, 0.958, 0.965, 0.971, 0.975, 0.978, 0.974, 0.977],\n",
              " 'precision': [0.917, 0.955, 0.962, 0.968, 0.974, 0.975, 0.972, 0.976],\n",
              " 'recall': [0.898, 0.948, 0.956, 0.965, 0.97, 0.972, 0.967, 0.973],\n",
              " 'f1': [0.902, 0.949, 0.957, 0.964, 0.97, 0.972, 0.967, 0.973]}"
            ]
          },
          "execution_count": 18,
          "metadata": {},
          "output_type": "execute_result"
        }
      ],
      "source": [
        "train_metrics_list"
      ]
    },
    {
      "cell_type": "code",
      "execution_count": null,
      "id": "QYgw-5iiDXcm",
      "metadata": {
        "id": "QYgw-5iiDXcm"
      },
      "outputs": [],
      "source": [
        "# import matplotlib.pyplot as plt\n",
        "\n",
        "# # Define the x-axis as the number of epochs\n",
        "# epochs = range(1, len(train_metrics_list['loss']) + 1)\n",
        "\n",
        "# # Plot the training and test loss per epoch\n",
        "# plt.plot(epochs, train_metrics_list['loss'], label='Train Loss')\n",
        "# plt.plot(epochs, test_metrics_list['loss'], label='Test Loss')\n",
        "# plt.title('Training and Test Loss per Epoch')\n",
        "# plt.xlabel('Epoch')\n",
        "# plt.ylabel('Loss')\n",
        "# plt.legend()\n",
        "# plt.show()\n",
        "\n",
        "# # Plot the training and test accuracy per epoch\n",
        "# plt.plot(epochs, train_metrics_list['acc'], label='Train Accuracy')\n",
        "# plt.plot(epochs, test_metrics_list['acc'], label='Test Accuracy')\n",
        "# plt.title('Training and Test Accuracy per Epoch')\n",
        "# plt.xlabel('Epoch')\n",
        "# plt.ylabel('Accuracy')\n",
        "# plt.legend()\n",
        "# plt.show()\n",
        "\n",
        "# # Plot the training and test F1 score per epoch\n",
        "# plt.plot(epochs, train_metrics_list['f1'], label='Train F1 Score')\n",
        "# plt.plot(epochs, test_metrics_list['f1'], label='Test F1 Score')\n",
        "# plt.title('Training and Test F1 Score per Epoch')\n",
        "# plt.xlabel('Epoch')\n",
        "# plt.ylabel('F1 Score')\n",
        "# plt.legend()\n",
        "# plt.show()\n",
        "\n",
        "# # Plot the training and test precision per epoch\n",
        "# plt.plot(epochs, train_metrics_list['precision'], label='Train Precision')\n",
        "# plt.plot(epochs, test_metrics_list['precision'], label='Test Precision')\n",
        "# plt.title('Training and Test Precision per Epoch')\n",
        "# plt.xlabel('Epoch')\n",
        "# plt.ylabel('Precision')\n",
        "# plt.legend()\n",
        "# plt.show()\n",
        "\n",
        "# # Plot the training and test recall per epoch\n",
        "# plt.plot(epochs, train_metrics_list['recall'], label='Train Recall')\n",
        "# plt.plot(epochs, test_metrics_list['recall'], label='Test Recall')\n",
        "# plt.title('Training and Test Recall per Epoch')\n",
        "# plt.xlabel('Epoch')\n",
        "# plt.ylabel('Recall')\n",
        "# plt.legend()\n",
        "# plt.show()"
      ]
    },
    {
      "cell_type": "code",
      "execution_count": null,
      "id": "1rEboGYyIw3z",
      "metadata": {
        "id": "1rEboGYyIw3z"
      },
      "outputs": [],
      "source": [
        "def draw_plots(y1, y2, x_name, y_name, title, legend_1,legend_2, x):\n",
        "\n",
        "    import matplotlib.pyplot as plt\n",
        "    import matplotlib.font_manager as fm\n",
        "\n",
        "    # Define the font properties\n",
        "    font_path = './Arial.ttf'  \n",
        "    font_prop = fm.FontProperties(fname=font_path)\n",
        "\n",
        "   \n",
        "\n",
        "    f = plt.figure(figsize = (10,6))\n",
        "    \n",
        "    # naming the x axis\n",
        "    plt.xlabel(x_name, fontsize=12, fontproperties=font_prop)\n",
        "    # naming the y axis\n",
        "    plt.ylabel(y_name,fontsize=12, fontproperties=font_prop)\n",
        "\n",
        "    plt.xticks(fontsize=10)\n",
        "    plt.yticks(fontsize=10)\n",
        "\n",
        "    #create plot\n",
        "    plt.plot(range(len(y1)), y1, \"o-\",  label = legend_1)\n",
        "    plt.plot(range(len(y2)), y2, \"o-\",  label = legend_2)\n",
        "    plt.legend()\n",
        "    plt.title(title)\n",
        "    plt.show()\n",
        "\n",
        "    f.savefig(\"./Roberta_D3/Plot{}.svg\".format(x), format='svg', dpi=300)\n",
        "    f.savefig(\"./Roberta_D3/Plot{}.tiff\".format(x), format='tiff', dpi=300)\n",
        "    f.savefig(\"./Roberta_D3/Plot{}.jpeg\".format(x), format='jpeg', dpi=300)\n",
        "    f.savefig(\"./Roberta_D3/Plot{}.pdf\".format(x), format='pdf', dpi=300)"
      ]
    },
    {
      "cell_type": "code",
      "execution_count": null,
      "id": "45Izb1-OcboO",
      "metadata": {
        "id": "45Izb1-OcboO"
      },
      "outputs": [],
      "source": [
        "draw_plots(train_metrics_list['loss'], test_metrics_list['loss'], 'Epoch', 'Loss', '', 'train','val', 10)\n",
        "draw_plots(train_metrics_list['acc'], test_metrics_list['acc'], 'Epoch', 'Accuracy', '', 'train','val', 20)\n",
        "draw_plots(train_metrics_list['precision'], test_metrics_list['precision'], 'Epoch', 'Precision', '', 'train','val', 30)\n",
        "draw_plots(train_metrics_list['recall'], test_metrics_list['recall'], 'Epoch', 'Recall', '', 'train','val', 40)\n",
        "draw_plots(train_metrics_list['f1'], test_metrics_list['f1'], 'Epoch', 'F1-score', '', 'train','val', 50)"
      ]
    },
    {
      "cell_type": "code",
      "execution_count": null,
      "id": "THjX8Irg9rNH",
      "metadata": {
        "id": "THjX8Irg9rNH"
      },
      "outputs": [],
      "source": []
    }
  ],
  "metadata": {
    "accelerator": "GPU",
    "colab": {
      "gpuType": "T4",
      "provenance": []
    },
    "gpuClass": "standard",
    "kernelspec": {
      "display_name": "Python 3 (ipykernel)",
      "language": "python",
      "name": "python3"
    },
    "language_info": {
      "codemirror_mode": {
        "name": "ipython",
        "version": 3
      },
      "file_extension": ".py",
      "mimetype": "text/x-python",
      "name": "python",
      "nbconvert_exporter": "python",
      "pygments_lexer": "ipython3",
      "version": "3.9.13"
    }
  },
  "nbformat": 4,
  "nbformat_minor": 5
}
